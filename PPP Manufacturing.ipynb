{
 "cells": [
  {
   "cell_type": "code",
   "execution_count": 1,
   "metadata": {},
   "outputs": [],
   "source": [
    "import pandas as pd\n",
    "import numpy as np"
   ]
  },
  {
   "cell_type": "code",
   "execution_count": 2,
   "metadata": {},
   "outputs": [],
   "source": [
    "import matplotlib.pyplot as plt\n",
    "%matplotlib inline\n",
    "import matplotlib\n",
    "matplotlib.style.use('ggplot')"
   ]
  },
  {
   "cell_type": "code",
   "execution_count": 65,
   "metadata": {},
   "outputs": [],
   "source": [
    "df = pd.read_csv('ppp_clean2.csv')"
   ]
  },
  {
   "cell_type": "code",
   "execution_count": 66,
   "metadata": {},
   "outputs": [],
   "source": [
    "del df['Unnamed: 0']"
   ]
  },
  {
   "cell_type": "code",
   "execution_count": 67,
   "metadata": {},
   "outputs": [],
   "source": [
    "df['NAICSCode'] = df['NAICSCode'].astype(str)"
   ]
  },
  {
   "cell_type": "code",
   "execution_count": 68,
   "metadata": {},
   "outputs": [],
   "source": [
    "fil_ind = list(pd.Series(df['NAICSCode']).str.startswith('3'))"
   ]
  },
  {
   "cell_type": "code",
   "execution_count": 69,
   "metadata": {},
   "outputs": [],
   "source": [
    "output = df.loc[fil_ind, :]"
   ]
  },
  {
   "cell_type": "code",
   "execution_count": 136,
   "metadata": {},
   "outputs": [
    {
     "data": {
      "text/plain": [
       "52713.8"
      ]
     },
     "execution_count": 136,
     "metadata": {},
     "output_type": "execute_result"
    }
   ],
   "source": [
    "output['Loan Amt'].sum()"
   ]
  },
  {
   "cell_type": "code",
   "execution_count": 25,
   "metadata": {},
   "outputs": [],
   "source": [
    "fil_fourdigit = list(pd.Series(output['NAICSCode']).str.startswith('3111'))"
   ]
  },
  {
   "cell_type": "code",
   "execution_count": 26,
   "metadata": {},
   "outputs": [],
   "source": [
    "output = output.loc[fil_fourdigit, :]\n",
    "output = output.groupby([\"NAICSCode\"]).sum()"
   ]
  },
  {
   "cell_type": "code",
   "execution_count": 27,
   "metadata": {},
   "outputs": [
    {
     "data": {
      "text/html": [
       "<div>\n",
       "<style scoped>\n",
       "    .dataframe tbody tr th:only-of-type {\n",
       "        vertical-align: middle;\n",
       "    }\n",
       "\n",
       "    .dataframe tbody tr th {\n",
       "        vertical-align: top;\n",
       "    }\n",
       "\n",
       "    .dataframe thead th {\n",
       "        text-align: right;\n",
       "    }\n",
       "</style>\n",
       "<table border=\"1\" class=\"dataframe\">\n",
       "  <thead>\n",
       "    <tr style=\"text-align: right;\">\n",
       "      <th></th>\n",
       "      <th>Loan Amt</th>\n",
       "    </tr>\n",
       "    <tr>\n",
       "      <th>NAICSCode</th>\n",
       "      <th></th>\n",
       "    </tr>\n",
       "  </thead>\n",
       "  <tbody>\n",
       "    <tr>\n",
       "      <th>311111.0</th>\n",
       "      <td>71.525</td>\n",
       "    </tr>\n",
       "    <tr>\n",
       "      <th>311119.0</th>\n",
       "      <td>175.625</td>\n",
       "    </tr>\n",
       "  </tbody>\n",
       "</table>\n",
       "</div>"
      ],
      "text/plain": [
       "           Loan Amt\n",
       "NAICSCode          \n",
       "311111.0     71.525\n",
       "311119.0    175.625"
      ]
     },
     "execution_count": 27,
     "metadata": {},
     "output_type": "execute_result"
    }
   ],
   "source": [
    "output"
   ]
  },
  {
   "cell_type": "markdown",
   "metadata": {},
   "source": [
    "### Get all 4 digit NAICS codes for Manufacturing\n",
    "Returns 6 digit NAICS codes"
   ]
  },
  {
   "cell_type": "code",
   "execution_count": 52,
   "metadata": {},
   "outputs": [],
   "source": [
    "lst1 = list(range(3112,3120)) + list(range(3251,3257)) + list(range(3259,3263)) + list(range(3271,3275)) + list(range(3311,3316)) + list(range(3321,3337)) + list(range(3341,3347)) + list(range(3351,3354)) + list(range(3361,3367))"
   ]
  },
  {
   "cell_type": "code",
   "execution_count": 56,
   "metadata": {},
   "outputs": [],
   "source": [
    "# Convert lst1 to str \n",
    "lst1_str = [str(i) for i in lst1] "
   ]
  },
  {
   "cell_type": "code",
   "execution_count": 53,
   "metadata": {},
   "outputs": [],
   "source": [
    "lst2 = ['3121', '3122', '3131', '3132', '3133', '3141', '3149', '3151', '3152', '3159', '3161', '3162', '3169', '3211',\n",
    "'3212', '3219', '3221', '3222', '3231', '3241', '3279', '3339', '3359', '3369', '3371', '3372', '3379', '3391', '3399']"
   ]
  },
  {
   "cell_type": "code",
   "execution_count": null,
   "metadata": {},
   "outputs": [],
   "source": [
    "master_manu_lst = lst1_str + lst2"
   ]
  },
  {
   "cell_type": "code",
   "execution_count": 61,
   "metadata": {},
   "outputs": [],
   "source": [
    "master_manu_lst.sort()"
   ]
  },
  {
   "cell_type": "markdown",
   "metadata": {},
   "source": [
    "### Group total loan amount by 6 digit NAICS code"
   ]
  },
  {
   "cell_type": "code",
   "execution_count": 124,
   "metadata": {},
   "outputs": [],
   "source": [
    "def by_sector(naics):\n",
    "    fil_fourdigit = list(pd.Series(output['NAICSCode']).str.startswith(naics))\n",
    "    x = output.loc[fil_fourdigit, :]\n",
    "    x = x.groupby([\"NAICSCode\"]).sum()\n",
    "    return x\n",
    "\n",
    "def sum_by4digit(naics):\n",
    "    return by_sector(naics)['Loan Amt'].sum()"
   ]
  },
  {
   "cell_type": "code",
   "execution_count": 150,
   "metadata": {},
   "outputs": [],
   "source": [
    "# tuple of 4 digit NAICS code and total loam amount in Million ($)\n",
    "\n",
    "comb = []\n",
    "\n",
    "for i in master_manu_lst:\n",
    "    comb.append(tuple([i, sum_by4digit(str(i))]))"
   ]
  },
  {
   "cell_type": "code",
   "execution_count": 151,
   "metadata": {
    "scrolled": true
   },
   "outputs": [
    {
     "data": {
      "text/plain": [
       "[('3112', 159.85),\n",
       " ('3113', 287.4),\n",
       " ('3114', 445.27500000000003),\n",
       " ('3115', 403.25000000000006),\n",
       " ('3116', 562.7750000000002),\n",
       " ('3117', 135.225),\n",
       " ('3118', 867.2750000000003),\n",
       " ('3119', 1094.1000000000001),\n",
       " ('3121', 1031.025),\n",
       " ('3122', 35.0),\n",
       " ('3131', 49.22499999999998),\n",
       " ('3132', 213.1),\n",
       " ('3133', 175.80000000000004),\n",
       " ('3141', 161.125),\n",
       " ('3149', 361.17500000000007),\n",
       " ('3151', 47.55),\n",
       " ('3152', 469.275),\n",
       " ('3159', 270.5250000000001),\n",
       " ('3161', 37.89999999999999),\n",
       " ('3162', 58.64999999999999),\n",
       " ('3169', 60.29999999999999),\n",
       " ('3211', 317.0500000000001),\n",
       " ('3212', 271.975),\n",
       " ('3219', 1205.7250000000004),\n",
       " ('3221', 138.2),\n",
       " ('3222', 892.0250000000001),\n",
       " ('3231', 2239.1999999999994),\n",
       " ('3241', 515.6000000000001),\n",
       " ('3251', 448.87500000000006),\n",
       " ('3252', 396.20000000000016),\n",
       " ('3253', 188.77499999999998),\n",
       " ('3254', 758.6499999999999),\n",
       " ('3255', 362.525),\n",
       " ('3256', 483.37500000000006),\n",
       " ('3259', 454.35000000000014),\n",
       " ('3260', 0.0),\n",
       " ('3261', 2142.4749999999985),\n",
       " ('3262', 421.375),\n",
       " ('3271', 192.125),\n",
       " ('3272', 306.625),\n",
       " ('3273', 938.9),\n",
       " ('3274', 15.375),\n",
       " ('3279', 414.4000000000001),\n",
       " ('3311', 230.10000000000005),\n",
       " ('3312', 502.22500000000014),\n",
       " ('3313', 239.1),\n",
       " ('3314', 197.2),\n",
       " ('3315', 508.82499999999993),\n",
       " ('3321', 677.6250000000002),\n",
       " ('3322', 153.25),\n",
       " ('3323', 2905.074999999999),\n",
       " ('3324', 425.65000000000003),\n",
       " ('3325', 190.22500000000002),\n",
       " ('3326', 279.125),\n",
       " ('3327', 2236.299999999998),\n",
       " ('3328', 790.2500000000003),\n",
       " ('3329', 2052.8749999999986),\n",
       " ('3330', 0.0),\n",
       " ('3331', 1085.1000000000001),\n",
       " ('3332', 1108.6499999999996),\n",
       " ('3333', 513.0),\n",
       " ('3334', 587.325),\n",
       " ('3335', 1470.7750000000005),\n",
       " ('3336', 237.27499999999998),\n",
       " ('3339', 1767.3500000000004),\n",
       " ('3341', 324.2),\n",
       " ('3342', 471.87500000000006),\n",
       " ('3343', 174.025),\n",
       " ('3344', 1170.15),\n",
       " ('3345', 1286.275),\n",
       " ('3346', 125.42499999999998),\n",
       " ('3351', 366.80000000000007),\n",
       " ('3352', 69.87500000000001),\n",
       " ('3353', 515.9250000000001),\n",
       " ('3359', 650.4500000000002),\n",
       " ('3361', 267.175),\n",
       " ('3362', 502.7250000000001),\n",
       " ('3363', 1199.2),\n",
       " ('3364', 862.1000000000001),\n",
       " ('3365', 70.19999999999999),\n",
       " ('3366', 504.72500000000014),\n",
       " ('3369', 163.84999999999997),\n",
       " ('3371', 1155.675),\n",
       " ('3372', 624.6750000000001),\n",
       " ('3379', 155.05),\n",
       " ('3391', 1286.9499999999998),\n",
       " ('3399', 2332.4249999999984)]"
      ]
     },
     "execution_count": 151,
     "metadata": {},
     "output_type": "execute_result"
    }
   ],
   "source": [
    "comb"
   ]
  },
  {
   "cell_type": "code",
   "execution_count": 152,
   "metadata": {},
   "outputs": [],
   "source": [
    "df_4digit_manu = pd.DataFrame(comb, columns =['NAICS Code', 'Loan Amt'])"
   ]
  },
  {
   "cell_type": "markdown",
   "metadata": {},
   "source": [
    "## Top 10 manufacturing sectors that received most PPP Loans\n",
    "See https://www.uscourts.gov/sites/default/files/2012naics4-digitcodes_0.pdf for NAICS reference codes"
   ]
  },
  {
   "cell_type": "code",
   "execution_count": 156,
   "metadata": {},
   "outputs": [
    {
     "data": {
      "text/html": [
       "<div>\n",
       "<style scoped>\n",
       "    .dataframe tbody tr th:only-of-type {\n",
       "        vertical-align: middle;\n",
       "    }\n",
       "\n",
       "    .dataframe tbody tr th {\n",
       "        vertical-align: top;\n",
       "    }\n",
       "\n",
       "    .dataframe thead th {\n",
       "        text-align: right;\n",
       "    }\n",
       "</style>\n",
       "<table border=\"1\" class=\"dataframe\">\n",
       "  <thead>\n",
       "    <tr style=\"text-align: right;\">\n",
       "      <th></th>\n",
       "      <th>NAICS Code</th>\n",
       "      <th>Loan Amt</th>\n",
       "    </tr>\n",
       "  </thead>\n",
       "  <tbody>\n",
       "    <tr>\n",
       "      <th>50</th>\n",
       "      <td>3323</td>\n",
       "      <td>2905.075</td>\n",
       "    </tr>\n",
       "    <tr>\n",
       "      <th>86</th>\n",
       "      <td>3399</td>\n",
       "      <td>2332.425</td>\n",
       "    </tr>\n",
       "    <tr>\n",
       "      <th>26</th>\n",
       "      <td>3231</td>\n",
       "      <td>2239.200</td>\n",
       "    </tr>\n",
       "    <tr>\n",
       "      <th>54</th>\n",
       "      <td>3327</td>\n",
       "      <td>2236.300</td>\n",
       "    </tr>\n",
       "    <tr>\n",
       "      <th>36</th>\n",
       "      <td>3261</td>\n",
       "      <td>2142.475</td>\n",
       "    </tr>\n",
       "    <tr>\n",
       "      <th>56</th>\n",
       "      <td>3329</td>\n",
       "      <td>2052.875</td>\n",
       "    </tr>\n",
       "    <tr>\n",
       "      <th>64</th>\n",
       "      <td>3339</td>\n",
       "      <td>1767.350</td>\n",
       "    </tr>\n",
       "    <tr>\n",
       "      <th>62</th>\n",
       "      <td>3335</td>\n",
       "      <td>1470.775</td>\n",
       "    </tr>\n",
       "    <tr>\n",
       "      <th>85</th>\n",
       "      <td>3391</td>\n",
       "      <td>1286.950</td>\n",
       "    </tr>\n",
       "    <tr>\n",
       "      <th>69</th>\n",
       "      <td>3345</td>\n",
       "      <td>1286.275</td>\n",
       "    </tr>\n",
       "  </tbody>\n",
       "</table>\n",
       "</div>"
      ],
      "text/plain": [
       "   NAICS Code  Loan Amt\n",
       "50       3323  2905.075\n",
       "86       3399  2332.425\n",
       "26       3231  2239.200\n",
       "54       3327  2236.300\n",
       "36       3261  2142.475\n",
       "56       3329  2052.875\n",
       "64       3339  1767.350\n",
       "62       3335  1470.775\n",
       "85       3391  1286.950\n",
       "69       3345  1286.275"
      ]
     },
     "execution_count": 156,
     "metadata": {},
     "output_type": "execute_result"
    }
   ],
   "source": [
    "df_4digit_manu.sort_values(by= 'Loan Amt', ascending=False).head(10)"
   ]
  },
  {
   "cell_type": "code",
   "execution_count": null,
   "metadata": {},
   "outputs": [],
   "source": []
  }
 ],
 "metadata": {
  "kernelspec": {
   "display_name": "Python 3",
   "language": "python",
   "name": "python3"
  },
  "language_info": {
   "codemirror_mode": {
    "name": "ipython",
    "version": 3
   },
   "file_extension": ".py",
   "mimetype": "text/x-python",
   "name": "python",
   "nbconvert_exporter": "python",
   "pygments_lexer": "ipython3",
   "version": "3.7.6"
  }
 },
 "nbformat": 4,
 "nbformat_minor": 4
}
