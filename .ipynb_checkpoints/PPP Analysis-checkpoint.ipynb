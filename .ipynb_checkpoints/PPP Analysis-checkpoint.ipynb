{
 "cells": [
  {
   "cell_type": "code",
   "execution_count": 2,
   "metadata": {},
   "outputs": [],
   "source": [
    "import pandas as pd\n",
    "import numpy as np\n",
    "#import geopandas as gpd\n",
    "#from shapely.geometry import Point, Polygon\n",
    "\n",
    "import matplotlib.pyplot as plt\n",
    "%matplotlib inline\n",
    "import matplotlib\n",
    "matplotlib.style.use('ggplot')"
   ]
  },
  {
   "cell_type": "code",
   "execution_count": 3,
   "metadata": {},
   "outputs": [],
   "source": [
    "df = pd.read_csv(\"foia_150k_plus.csv\")"
   ]
  },
  {
   "cell_type": "code",
   "execution_count": 3,
   "metadata": {},
   "outputs": [],
   "source": [
    "#us_map = gpd.read_file(\"cb_2018_us_cbsa_20m.shp\")"
   ]
  },
  {
   "cell_type": "code",
   "execution_count": 4,
   "metadata": {},
   "outputs": [],
   "source": [
    "#us_map.plot()"
   ]
  },
  {
   "cell_type": "code",
   "execution_count": 4,
   "metadata": {},
   "outputs": [
    {
     "data": {
      "text/plain": [
       "array(['a $5-10 million', 'b $2-5 million', 'c $1-2 million',\n",
       "       'd $350,000-1 million', 'e $150,000-350,000'], dtype=object)"
      ]
     },
     "execution_count": 4,
     "metadata": {},
     "output_type": "execute_result"
    }
   ],
   "source": [
    "df['LoanRange'].unique()"
   ]
  },
  {
   "cell_type": "code",
   "execution_count": 6,
   "metadata": {},
   "outputs": [
    {
     "data": {
      "text/plain": [
       "(661218, 16)"
      ]
     },
     "execution_count": 6,
     "metadata": {},
     "output_type": "execute_result"
    }
   ],
   "source": [
    "# Original dataset has 661,218 firms?\n",
    "\n",
    "df.shape"
   ]
  },
  {
   "cell_type": "code",
   "execution_count": 6,
   "metadata": {},
   "outputs": [
    {
     "data": {
      "text/plain": [
       "Int64Index([], dtype='int64')"
      ]
     },
     "execution_count": 6,
     "metadata": {},
     "output_type": "execute_result"
    }
   ],
   "source": [
    "# missing data for 2 weeks\n",
    "\n",
    "df[df['DateApproved']== '04/18/2020'].index  "
   ]
  },
  {
   "cell_type": "code",
   "execution_count": 7,
   "metadata": {},
   "outputs": [
    {
     "data": {
      "text/plain": [
       "656593"
      ]
     },
     "execution_count": 7,
     "metadata": {},
     "output_type": "execute_result"
    }
   ],
   "source": [
    "# Only 656,593 unique firm names\n",
    "\n",
    "len(df['BusinessName'].unique())"
   ]
  },
  {
   "cell_type": "code",
   "execution_count": 8,
   "metadata": {},
   "outputs": [
    {
     "data": {
      "text/plain": [
       "656592"
      ]
     },
     "execution_count": 8,
     "metadata": {},
     "output_type": "execute_result"
    }
   ],
   "source": [
    "# Drop 5 rows with businessname == 'Not Available'\n",
    "\n",
    "df = df[df['BusinessName']!= 'NOT AVAILABLE']\n",
    "\n",
    "# New number of unique firms = 656,592\n",
    "\n",
    "len(df['BusinessName'].unique())\n"
   ]
  },
  {
   "cell_type": "code",
   "execution_count": 9,
   "metadata": {},
   "outputs": [],
   "source": [
    "# Loan Range is categorical value, need to convert to numerical\n",
    "# Mean loan value used for each bin\n",
    "\n",
    "df['LoanRange'] = df['LoanRange'].replace({'a $5-10 million': 7.5, 'b $2-5 million': 3.5, 'c $1-2 million': 1.5,\n",
    "                                          'd $350,000-1 million': 0.675, 'e $150,000-350,000': 0.25})\n"
   ]
  },
  {
   "cell_type": "code",
   "execution_count": 10,
   "metadata": {
    "scrolled": true
   },
   "outputs": [
    {
     "data": {
      "text/plain": [
       "array([7.5  , 3.5  , 1.5  , 0.675, 0.25 ])"
      ]
     },
     "execution_count": 10,
     "metadata": {},
     "output_type": "execute_result"
    }
   ],
   "source": [
    "df['LoanRange'].unique()"
   ]
  },
  {
   "cell_type": "code",
   "execution_count": 12,
   "metadata": {
    "scrolled": true
   },
   "outputs": [],
   "source": [
    "df['BusinessName'] = df['BusinessName'].astype(str)\n",
    "df['NAICSCode'] = df['NAICSCode'].astype(str)"
   ]
  },
  {
   "cell_type": "code",
   "execution_count": 12,
   "metadata": {},
   "outputs": [],
   "source": [
    "#df.to_csv('ppp_clean.csv')"
   ]
  },
  {
   "cell_type": "markdown",
   "metadata": {},
   "source": [
    "# Cleaned df"
   ]
  },
  {
   "cell_type": "code",
   "execution_count": 79,
   "metadata": {},
   "outputs": [],
   "source": [
    "df = pd.read_csv('ppp_clean.csv')"
   ]
  },
  {
   "cell_type": "code",
   "execution_count": 80,
   "metadata": {},
   "outputs": [
    {
     "data": {
      "text/html": [
       "<div>\n",
       "<style scoped>\n",
       "    .dataframe tbody tr th:only-of-type {\n",
       "        vertical-align: middle;\n",
       "    }\n",
       "\n",
       "    .dataframe tbody tr th {\n",
       "        vertical-align: top;\n",
       "    }\n",
       "\n",
       "    .dataframe thead th {\n",
       "        text-align: right;\n",
       "    }\n",
       "</style>\n",
       "<table border=\"1\" class=\"dataframe\">\n",
       "  <thead>\n",
       "    <tr style=\"text-align: right;\">\n",
       "      <th></th>\n",
       "      <th>Unnamed: 0</th>\n",
       "      <th>LoanRange</th>\n",
       "      <th>BusinessName</th>\n",
       "      <th>Address</th>\n",
       "      <th>City</th>\n",
       "      <th>State</th>\n",
       "      <th>Zip</th>\n",
       "      <th>NAICSCode</th>\n",
       "      <th>BusinessType</th>\n",
       "      <th>RaceEthnicity</th>\n",
       "      <th>Gender</th>\n",
       "      <th>Veteran</th>\n",
       "      <th>NonProfit</th>\n",
       "      <th>JobsRetained</th>\n",
       "      <th>DateApproved</th>\n",
       "      <th>Lender</th>\n",
       "      <th>CD</th>\n",
       "    </tr>\n",
       "  </thead>\n",
       "  <tbody>\n",
       "  </tbody>\n",
       "</table>\n",
       "</div>"
      ],
      "text/plain": [
       "Empty DataFrame\n",
       "Columns: [Unnamed: 0, LoanRange, BusinessName, Address, City, State, Zip, NAICSCode, BusinessType, RaceEthnicity, Gender, Veteran, NonProfit, JobsRetained, DateApproved, Lender, CD]\n",
       "Index: []"
      ]
     },
     "execution_count": 80,
     "metadata": {},
     "output_type": "execute_result"
    }
   ],
   "source": [
    "# Check no nil state values\n",
    "df[df['State'] == \"XX\"] "
   ]
  },
  {
   "cell_type": "code",
   "execution_count": 81,
   "metadata": {},
   "outputs": [],
   "source": [
    "del df['Unnamed: 0']\n",
    "\n",
    "# Pivot by Date Approved, and LoanRange to track loans to different NAICS industry over time\n",
    "\n",
    "x = df.pivot_table(values= 'LoanRange',\n",
    "              index= 'DateApproved',\n",
    "              columns= 'NAICSCode',\n",
    "              aggfunc= np.sum)\n",
    "\n",
    "# clean up data- rename column, replace NaN with 0 values\n",
    "\n",
    "x = x.unstack().reset_index()\n",
    "x = x.rename(columns= {0:'Loan Amt'})\n",
    "x = x.fillna(0)\n",
    "\n",
    "# Get rid of crazy NAICS codes\n",
    "\n",
    "x = x[x['NAICSCode']!= 999990.0]\n",
    "\n",
    "# Convert codes to string for ease of querying\n",
    "\n",
    "x['NAICSCode'] = x['NAICSCode'].astype(str)"
   ]
  },
  {
   "cell_type": "code",
   "execution_count": 82,
   "metadata": {},
   "outputs": [],
   "source": [
    "# For Joe, investigate other health practitioners sector code= 6213\n",
    "\n",
    "#us_othr = df[df['NAICSCode'].str.contains('6213')]\n",
    "#ny_othr = us_othr[us_othr['State']== 'NY']\n",
    "#ny_othr.describe()"
   ]
  },
  {
   "cell_type": "code",
   "execution_count": 83,
   "metadata": {},
   "outputs": [
    {
     "data": {
      "text/html": [
       "<div>\n",
       "<style scoped>\n",
       "    .dataframe tbody tr th:only-of-type {\n",
       "        vertical-align: middle;\n",
       "    }\n",
       "\n",
       "    .dataframe tbody tr th {\n",
       "        vertical-align: top;\n",
       "    }\n",
       "\n",
       "    .dataframe thead th {\n",
       "        text-align: right;\n",
       "    }\n",
       "</style>\n",
       "<table border=\"1\" class=\"dataframe\">\n",
       "  <thead>\n",
       "    <tr style=\"text-align: right;\">\n",
       "      <th></th>\n",
       "      <th>NAICSCode</th>\n",
       "      <th>DateApproved</th>\n",
       "      <th>Loan Amt</th>\n",
       "    </tr>\n",
       "  </thead>\n",
       "  <tbody>\n",
       "    <tr>\n",
       "      <th>0</th>\n",
       "      <td>111110.0</td>\n",
       "      <td>04/03/2020</td>\n",
       "      <td>0.250</td>\n",
       "    </tr>\n",
       "    <tr>\n",
       "      <th>1</th>\n",
       "      <td>111110.0</td>\n",
       "      <td>04/04/2020</td>\n",
       "      <td>1.000</td>\n",
       "    </tr>\n",
       "    <tr>\n",
       "      <th>2</th>\n",
       "      <td>111110.0</td>\n",
       "      <td>04/05/2020</td>\n",
       "      <td>1.925</td>\n",
       "    </tr>\n",
       "    <tr>\n",
       "      <th>3</th>\n",
       "      <td>111110.0</td>\n",
       "      <td>04/06/2020</td>\n",
       "      <td>2.675</td>\n",
       "    </tr>\n",
       "    <tr>\n",
       "      <th>4</th>\n",
       "      <td>111110.0</td>\n",
       "      <td>04/07/2020</td>\n",
       "      <td>1.425</td>\n",
       "    </tr>\n",
       "    <tr>\n",
       "      <th>...</th>\n",
       "      <td>...</td>\n",
       "      <td>...</td>\n",
       "      <td>...</td>\n",
       "    </tr>\n",
       "    <tr>\n",
       "      <th>92109</th>\n",
       "      <td>928120.0</td>\n",
       "      <td>06/26/2020</td>\n",
       "      <td>0.000</td>\n",
       "    </tr>\n",
       "    <tr>\n",
       "      <th>92110</th>\n",
       "      <td>928120.0</td>\n",
       "      <td>06/27/2020</td>\n",
       "      <td>0.000</td>\n",
       "    </tr>\n",
       "    <tr>\n",
       "      <th>92111</th>\n",
       "      <td>928120.0</td>\n",
       "      <td>06/28/2020</td>\n",
       "      <td>0.000</td>\n",
       "    </tr>\n",
       "    <tr>\n",
       "      <th>92112</th>\n",
       "      <td>928120.0</td>\n",
       "      <td>06/29/2020</td>\n",
       "      <td>0.000</td>\n",
       "    </tr>\n",
       "    <tr>\n",
       "      <th>92113</th>\n",
       "      <td>928120.0</td>\n",
       "      <td>06/30/2020</td>\n",
       "      <td>0.000</td>\n",
       "    </tr>\n",
       "  </tbody>\n",
       "</table>\n",
       "<p>92114 rows × 3 columns</p>\n",
       "</div>"
      ],
      "text/plain": [
       "      NAICSCode DateApproved  Loan Amt\n",
       "0      111110.0   04/03/2020     0.250\n",
       "1      111110.0   04/04/2020     1.000\n",
       "2      111110.0   04/05/2020     1.925\n",
       "3      111110.0   04/06/2020     2.675\n",
       "4      111110.0   04/07/2020     1.425\n",
       "...         ...          ...       ...\n",
       "92109  928120.0   06/26/2020     0.000\n",
       "92110  928120.0   06/27/2020     0.000\n",
       "92111  928120.0   06/28/2020     0.000\n",
       "92112  928120.0   06/29/2020     0.000\n",
       "92113  928120.0   06/30/2020     0.000\n",
       "\n",
       "[92114 rows x 3 columns]"
      ]
     },
     "execution_count": 83,
     "metadata": {},
     "output_type": "execute_result"
    }
   ],
   "source": [
    "x"
   ]
  },
  {
   "cell_type": "markdown",
   "metadata": {},
   "source": [
    "## Plot PPP loans trend over time by industry"
   ]
  },
  {
   "cell_type": "code",
   "execution_count": 84,
   "metadata": {},
   "outputs": [],
   "source": [
    "# Get index with all industires beginning with 2-digit NAICS code \n",
    "# Use it to filter out main df\n",
    "\n",
    "def by_ind(naics):\n",
    "    fil_ind = list(pd.Series(x['NAICSCode']).str.startswith(naics))\n",
    "    output = x.loc[fil_ind, :]\n",
    "    output = output.groupby([\"DateApproved\"]).sum()    # Aggregate by date \n",
    "    output = output.reset_index()\n",
    "    output['DateApproved'] = pd.to_datetime(output['DateApproved'])\n",
    "    return output\n"
   ]
  },
  {
   "cell_type": "code",
   "execution_count": 85,
   "metadata": {
    "scrolled": true
   },
   "outputs": [],
   "source": [
    "health = by_ind('62')\n",
    "manu = by_ind('3')\n",
    "const = by_ind('23')"
   ]
  },
  {
   "cell_type": "code",
   "execution_count": 86,
   "metadata": {},
   "outputs": [],
   "source": [
    "# Compile a tuple of all industry codes to drop\n",
    "\n",
    "exclude_ind = (str(3), str(23), str(62))"
   ]
  },
  {
   "cell_type": "code",
   "execution_count": 87,
   "metadata": {},
   "outputs": [],
   "source": [
    "# Get index of industries to drop\n",
    "\n",
    "fil_ind = list(pd.Series(x['NAICSCode']).str.startswith(exclude_ind))\n",
    "ind = x.loc[fil_ind, :]"
   ]
  },
  {
   "cell_type": "code",
   "execution_count": 88,
   "metadata": {},
   "outputs": [],
   "source": [
    "# drop index representing 3 industries from main df - 23(Const), 3(Manu), 62(Health)\n",
    "\n",
    "other_ind = x.drop(ind.index)"
   ]
  },
  {
   "cell_type": "code",
   "execution_count": 89,
   "metadata": {},
   "outputs": [
    {
     "data": {
      "text/plain": [
       "False"
      ]
     },
     "execution_count": 89,
     "metadata": {},
     "output_type": "execute_result"
    }
   ],
   "source": [
    "# Check if there are nil industry codes, if so get their index and other_ind.drop(index, inplace = True)\n",
    "\n",
    "any(other_ind['NAICSCode']== '0')"
   ]
  },
  {
   "cell_type": "code",
   "execution_count": 60,
   "metadata": {},
   "outputs": [
    {
     "data": {
      "text/plain": [
       "False"
      ]
     },
     "execution_count": 60,
     "metadata": {},
     "output_type": "execute_result"
    }
   ],
   "source": [
    "any(other_ind['NAICSCode']== 'NaN')"
   ]
  },
  {
   "cell_type": "code",
   "execution_count": 66,
   "metadata": {},
   "outputs": [
    {
     "data": {
      "text/plain": [
       "False"
      ]
     },
     "execution_count": 66,
     "metadata": {},
     "output_type": "execute_result"
    }
   ],
   "source": [
    "any(other_ind['NAICSCode']== '999990.0')"
   ]
  },
  {
   "cell_type": "code",
   "execution_count": 61,
   "metadata": {},
   "outputs": [
    {
     "data": {
      "text/plain": [
       "True"
      ]
     },
     "execution_count": 61,
     "metadata": {},
     "output_type": "execute_result"
    }
   ],
   "source": [
    "# Check if there r nil loan amounts, yes\n",
    "\n",
    "any(other_ind['Loan Amt']== 0)"
   ]
  },
  {
   "cell_type": "code",
   "execution_count": 90,
   "metadata": {},
   "outputs": [],
   "source": [
    "# Drop them like its hot\n",
    "\n",
    "drop_index = other_ind[other_ind['Loan Amt']== 0].index\n",
    "other_ind.drop(drop_index, inplace=True)"
   ]
  },
  {
   "cell_type": "code",
   "execution_count": 91,
   "metadata": {},
   "outputs": [
    {
     "data": {
      "text/plain": [
       "False"
      ]
     },
     "execution_count": 91,
     "metadata": {},
     "output_type": "execute_result"
    }
   ],
   "source": [
    "any(other_ind['Loan Amt']== 0)"
   ]
  },
  {
   "cell_type": "code",
   "execution_count": 92,
   "metadata": {},
   "outputs": [],
   "source": [
    "other_ind['DateApproved'] = pd.to_datetime(other_ind['DateApproved'])"
   ]
  },
  {
   "cell_type": "markdown",
   "metadata": {},
   "source": [
    "## Plot the final graph"
   ]
  },
  {
   "cell_type": "code",
   "execution_count": 93,
   "metadata": {},
   "outputs": [
    {
     "data": {
      "image/png": "[encoded data removed]",
      "text/plain": [
       "<Figure size 1080x720 with 1 Axes>"
      ]
     },
     "metadata": {},
     "output_type": "display_data"
    }
   ],
   "source": [
    "from matplotlib.ticker import FuncFormatter\n",
    "import matplotlib.dates as mdates\n",
    "\n",
    "myFmt = mdates.DateFormatter('%d-%B')\n",
    "\n",
    "def per(x, pos):\n",
    "    return '%1.0f' % (x * 1e-3)\n",
    "formatter = FuncFormatter(per)\n",
    "\n",
    "fig = plt.figure(figsize=(15,10))\n",
    "\n",
    "plt.title('Jobs Retained from PPP Loans of $150,000 and above', fontsize=20, loc= 'left', y=1.05)\n",
    "plt.title('Health Sector led in retaining most jobs from loans', fontsize= 18, loc= 'right', color='slategrey', style='italic')\n",
    "\n",
    "plt.plot(const['DateApproved'], const['Loan Amt'], color='olivedrab', linewidth=2)\n",
    "plt.plot(manu['DateApproved'], manu['Loan Amt'], color='steelblue', linewidth=2)\n",
    "plt.plot(health['DateApproved'], health['Loan Amt'], color='maroon', linewidth=2)\n",
    "plt.plot(other_ind['DateApproved'], other_ind['Loan Amt'], '+', color='dimgrey')\n",
    "plt.legend(['Constr', 'Manuf', 'Health', 'All others'], fontsize='x-large')\n",
    "plt.yticks(fontsize= 14)\n",
    "plt.xticks(fontsize= 14)\n",
    "\n",
    "plt.ylabel('Jobs (1,000)', fontsize=16)\n",
    "plt.rcParams[\"font.family\"] = \"sans-serif\"\n",
    "ax = fig.text(.75, .05, 'Source: US Small Business Administration (SBA)', fontsize= 10)\n",
    "\n",
    "ax = fig.gca()\n",
    "ax.yaxis.set_major_formatter(formatter)\n",
    "ax.xaxis.set_major_formatter(myFmt)"
   ]
  },
  {
   "cell_type": "markdown",
   "metadata": {},
   "source": [
    "## Investigate effectiveness of loans in retaining jobs\n",
    "Take the cumulative amount of loans for each of the 3 sector and calculate cumulative amount of jobs retained"
   ]
  },
  {
   "cell_type": "code",
   "execution_count": 110,
   "metadata": {},
   "outputs": [
    {
     "data": {
      "text/plain": [
       "3169146.0"
      ]
     },
     "execution_count": 110,
     "metadata": {},
     "output_type": "execute_result"
    }
   ],
   "source": [
    "c['Jobs Retained'].sum()"
   ]
  },
  {
   "cell_type": "code",
   "execution_count": 111,
   "metadata": {},
   "outputs": [
    {
     "data": {
      "text/plain": [
       "3444894.0"
      ]
     },
     "execution_count": 111,
     "metadata": {},
     "output_type": "execute_result"
    }
   ],
   "source": [
    "m['Jobs Retained'].sum()"
   ]
  },
  {
   "cell_type": "code",
   "execution_count": 112,
   "metadata": {},
   "outputs": [
    {
     "data": {
      "text/plain": [
       "4807060.0"
      ]
     },
     "execution_count": 112,
     "metadata": {},
     "output_type": "execute_result"
    }
   ],
   "source": [
    "h['Jobs Retained'].sum()"
   ]
  },
  {
   "cell_type": "code",
   "execution_count": 140,
   "metadata": {},
   "outputs": [
    {
     "data": {
      "text/plain": [
       "19593955.0"
      ]
     },
     "execution_count": 140,
     "metadata": {},
     "output_type": "execute_result"
    }
   ],
   "source": [
    "zz['Jobs Retained'].sum()"
   ]
  },
  {
   "cell_type": "code",
   "execution_count": 126,
   "metadata": {},
   "outputs": [
    {
     "data": {
      "text/plain": [
       "56998.25000000005"
      ]
     },
     "execution_count": 126,
     "metadata": {},
     "output_type": "execute_result"
    }
   ],
   "source": [
    "# Loans dispensed\n",
    "c['Loan Amt'].sum()"
   ]
  },
  {
   "cell_type": "code",
   "execution_count": 127,
   "metadata": {},
   "outputs": [
    {
     "data": {
      "text/plain": [
       "52714.975000000006"
      ]
     },
     "execution_count": 127,
     "metadata": {},
     "output_type": "execute_result"
    }
   ],
   "source": [
    "m['Loan Amt'].sum()"
   ]
  },
  {
   "cell_type": "code",
   "execution_count": 128,
   "metadata": {},
   "outputs": [
    {
     "data": {
      "text/plain": [
       "56342.449999999946"
      ]
     },
     "execution_count": 128,
     "metadata": {},
     "output_type": "execute_result"
    }
   ],
   "source": [
    "h['Loan Amt'].sum()"
   ]
  },
  {
   "cell_type": "code",
   "execution_count": 163,
   "metadata": {},
   "outputs": [
    {
     "data": {
      "text/plain": [
       "261364.5249999999"
      ]
     },
     "execution_count": 163,
     "metadata": {},
     "output_type": "execute_result"
    }
   ],
   "source": [
    "zz['Loan Amt'].sum()"
   ]
  },
  {
   "cell_type": "code",
   "execution_count": 134,
   "metadata": {},
   "outputs": [
    {
     "data": {
      "text/plain": [
       "55.60075967244603"
      ]
     },
     "execution_count": 134,
     "metadata": {},
     "output_type": "execute_result"
    }
   ],
   "source": [
    "# Construction no. of jobs retained for each Million$\n",
    "\n",
    "3169146.0/ 56998.25000000005"
   ]
  },
  {
   "cell_type": "code",
   "execution_count": 135,
   "metadata": {},
   "outputs": [
    {
     "data": {
      "text/plain": [
       "65.3494381814655"
      ]
     },
     "execution_count": 135,
     "metadata": {},
     "output_type": "execute_result"
    }
   ],
   "source": [
    "# Manufacturing\n",
    "\n",
    "3444894.0/ 52714.975000000006"
   ]
  },
  {
   "cell_type": "code",
   "execution_count": 136,
   "metadata": {},
   "outputs": [
    {
     "data": {
      "text/plain": [
       "85.31861855492625"
      ]
     },
     "execution_count": 136,
     "metadata": {},
     "output_type": "execute_result"
    }
   ],
   "source": [
    "# Health\n",
    "\n",
    "4807060.0/ 56342.449999999946"
   ]
  },
  {
   "cell_type": "code",
   "execution_count": 164,
   "metadata": {},
   "outputs": [
    {
     "data": {
      "text/plain": [
       "74.96792076124335"
      ]
     },
     "execution_count": 164,
     "metadata": {},
     "output_type": "execute_result"
    }
   ],
   "source": [
    "# other sectors\n",
    "\n",
    "19593955.0/261364.5249999999"
   ]
  },
  {
   "cell_type": "code",
   "execution_count": 170,
   "metadata": {},
   "outputs": [],
   "source": [
    "df = {'Sector': ['Construction', 'Manufacturing', 'Health', 'All Other Sectors (avg)'], \n",
    "      'Jobs Retained/ Million ($ USD) Spent': [56, 65, 85, 75]}"
   ]
  },
  {
   "cell_type": "code",
   "execution_count": 171,
   "metadata": {},
   "outputs": [],
   "source": [
    "df = pd.DataFrame(df)"
   ]
  },
  {
   "cell_type": "code",
   "execution_count": 172,
   "metadata": {},
   "outputs": [
    {
     "data": {
      "text/html": [
       "<div>\n",
       "<style scoped>\n",
       "    .dataframe tbody tr th:only-of-type {\n",
       "        vertical-align: middle;\n",
       "    }\n",
       "\n",
       "    .dataframe tbody tr th {\n",
       "        vertical-align: top;\n",
       "    }\n",
       "\n",
       "    .dataframe thead th {\n",
       "        text-align: right;\n",
       "    }\n",
       "</style>\n",
       "<table border=\"1\" class=\"dataframe\">\n",
       "  <thead>\n",
       "    <tr style=\"text-align: right;\">\n",
       "      <th></th>\n",
       "      <th>Sector</th>\n",
       "      <th>Jobs Retained/ Million ($ USD) Spent</th>\n",
       "    </tr>\n",
       "  </thead>\n",
       "  <tbody>\n",
       "    <tr>\n",
       "      <th>0</th>\n",
       "      <td>Construction</td>\n",
       "      <td>56</td>\n",
       "    </tr>\n",
       "    <tr>\n",
       "      <th>1</th>\n",
       "      <td>Manufacturing</td>\n",
       "      <td>65</td>\n",
       "    </tr>\n",
       "    <tr>\n",
       "      <th>2</th>\n",
       "      <td>Health</td>\n",
       "      <td>85</td>\n",
       "    </tr>\n",
       "    <tr>\n",
       "      <th>3</th>\n",
       "      <td>All Other Sectors (avg)</td>\n",
       "      <td>75</td>\n",
       "    </tr>\n",
       "  </tbody>\n",
       "</table>\n",
       "</div>"
      ],
      "text/plain": [
       "                    Sector  Jobs Retained/ Million ($ USD) Spent\n",
       "0             Construction                                    56\n",
       "1            Manufacturing                                    65\n",
       "2                   Health                                    85\n",
       "3  All Other Sectors (avg)                                    75"
      ]
     },
     "execution_count": 172,
     "metadata": {},
     "output_type": "execute_result"
    }
   ],
   "source": [
    "df"
   ]
  },
  {
   "cell_type": "code",
   "execution_count": 229,
   "metadata": {},
   "outputs": [],
   "source": [
    "import seaborn as sns"
   ]
  },
  {
   "cell_type": "code",
   "execution_count": 231,
   "metadata": {},
   "outputs": [],
   "source": [
    "colors = [\"#95a5a6\", \"#3498db\", \"#e74c3c\", \"#34495e\"]\n",
    "customPalette = sns.set_palette(sns.color_palette(colors))"
   ]
  },
  {
   "cell_type": "code",
   "execution_count": 228,
   "metadata": {},
   "outputs": [
    {
     "data": {
      "text/plain": [
       "Text(0.5, 1.0, 'No. of Jobs Retained/ Million ($USD) PPP Loan')"
      ]
     },
     "execution_count": 228,
     "metadata": {},
     "output_type": "execute_result"
    },
    {
     "data": {
      "image/png": "[encoded data removed]",
      "text/plain": [
       "<Figure size 576x432 with 1 Axes>"
      ]
     },
     "metadata": {},
     "output_type": "display_data"
    }
   ],
   "source": [
    "sns.set(rc={'figure.figsize':(8,6)})\n",
    "ax = sns.barplot(x=\"Jobs Retained/ Million ($ USD) Spent\", y=\"Sector\", palette=customPalette, data=df)\n",
    "\n",
    "ax.set_title('No. of Jobs Retained/ Million ($USD) PPP Loan', fontsize= 'large')\n",
    "ax.set_ylabel('')    \n",
    "ax.set_xlabel('')\n",
    "ax.fig.text(.75, .05, 'Source: US Small Business Administration (SBA)', fontsize= 10)"
   ]
  },
  {
   "cell_type": "code",
   "execution_count": 241,
   "metadata": {},
   "outputs": [
    {
     "data": {
      "text/plain": [
       "Text(0.95, -0.1, 'Source: US Small Business Administration (SBA)')"
      ]
     },
     "execution_count": 241,
     "metadata": {},
     "output_type": "execute_result"
    },
    {
     "data": {
      "image/png": "[encoded data removed]",
      "text/plain": [
       "<Figure size 576x432 with 1 Axes>"
      ]
     },
     "metadata": {},
     "output_type": "display_data"
    }
   ],
   "source": [
    "ax = sns.barplot(x=\"Jobs Retained/ Million ($ USD) Spent\", y=\"Sector\", palette=customPalette, data=df)\n",
    "\n",
    "ax.set_title('No. of Jobs Retained/ Million ($USD) PPP Loan', fontsize= 'large')\n",
    "ax.set_ylabel('')    \n",
    "ax.set_xlabel('')\n",
    "\n",
    "ax.text(0.95, -0.1, \"Source: US Small Business Administration (SBA)\", ha=\"right\", va=\"bottom\", transform=ax.transAxes, fontsize= 10)\n"
   ]
  },
  {
   "cell_type": "code",
   "execution_count": null,
   "metadata": {},
   "outputs": [],
   "source": []
  }
 ],
 "metadata": {
  "kernelspec": {
   "display_name": "Python 3",
   "language": "python",
   "name": "python3"
  },
  "language_info": {
   "codemirror_mode": {
    "name": "ipython",
    "version": 3
   },
   "file_extension": ".py",
   "mimetype": "text/x-python",
   "name": "python",
   "nbconvert_exporter": "python",
   "pygments_lexer": "ipython3",
   "version": "3.7.6"
  }
 },
 "nbformat": 4,
 "nbformat_minor": 4
}
